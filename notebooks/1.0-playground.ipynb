{
 "cells": [
  {
   "cell_type": "code",
   "execution_count": 7,
   "outputs": [
    {
     "name": "stdout",
     "output_type": "stream",
     "text": [
      "The autoreload extension is already loaded. To reload it, use:\n",
      "  %reload_ext autoreload\n"
     ]
    }
   ],
   "source": [
    "%load_ext autoreload\n",
    "%autoreload 2"
   ],
   "metadata": {
    "collapsed": false,
    "ExecuteTime": {
     "end_time": "2023-10-29T16:15:19.752618100Z",
     "start_time": "2023-10-29T16:15:19.689384100Z"
    }
   },
   "id": "ae5d7dc21253b49d"
  },
  {
   "cell_type": "code",
   "execution_count": 8,
   "outputs": [],
   "source": [
    "from src.common.logger import Logger\n",
    "from src.feature import LasFileHandler\n",
    "from src.feature.point_cloud_file import FileType, Filename, IFileHandler"
   ],
   "metadata": {
    "collapsed": false,
    "ExecuteTime": {
     "end_time": "2023-10-29T16:15:19.818111900Z",
     "start_time": "2023-10-29T16:15:19.755622300Z"
    }
   },
   "id": "4adf82e674bbd678"
  },
  {
   "cell_type": "code",
   "execution_count": 9,
   "outputs": [],
   "source": [
    "logger: Logger = Logger()\n",
    "point_cloud_file_handler: IFileHandler = LasFileHandler(logger=logger)"
   ],
   "metadata": {
    "collapsed": false,
    "ExecuteTime": {
     "end_time": "2023-10-29T16:15:19.877682900Z",
     "start_time": "2023-10-29T16:15:19.815103300Z"
    }
   },
   "id": "c2265f9e1188ed2e"
  },
  {
   "cell_type": "code",
   "execution_count": 10,
   "outputs": [
    {
     "name": "stderr",
     "output_type": "stream",
     "text": [
      "WARNING:laspy.vlrs.known:Failed to parse <class 'laspy.vlrs.known.GeoAsciiParamsVlr'>: 'ascii' codec can't decode byte 0xe5 in position 21: ordinal not in range(128)\n",
      "INFO:src.common.logger.logger:Loaded 23299316 points from scalar_field.las\n"
     ]
    }
   ],
   "source": [
    "point_cloud_file_handler.open(filename=Filename.SCALAR_FIELD, file_type=FileType.LAS)"
   ],
   "metadata": {
    "collapsed": false,
    "ExecuteTime": {
     "end_time": "2023-10-29T16:15:20.254929100Z",
     "start_time": "2023-10-29T16:15:19.878682900Z"
    }
   },
   "id": "906a0df096c00774"
  },
  {
   "cell_type": "code",
   "execution_count": 11,
   "outputs": [
    {
     "name": "stdout",
     "output_type": "stream",
     "text": [
      "X\n",
      "Y\n",
      "Z\n",
      "intensity\n",
      "return_number\n",
      "number_of_returns\n",
      "scan_direction_flag\n",
      "edge_of_flight_line\n",
      "classification\n",
      "synthetic\n",
      "key_point\n",
      "withheld\n",
      "scan_angle_rank\n",
      "user_data\n",
      "point_source_id\n",
      "gps_time\n",
      "red\n",
      "green\n",
      "blue\n"
     ]
    }
   ],
   "source": [
    "point_cloud_file_handler.list_dimensions()"
   ],
   "metadata": {
    "collapsed": false,
    "ExecuteTime": {
     "end_time": "2023-10-29T16:15:20.331455900Z",
     "start_time": "2023-10-29T16:15:20.254929100Z"
    }
   },
   "id": "d4d1eac68aad132"
  },
  {
   "cell_type": "code",
   "execution_count": 11,
   "outputs": [],
   "source": [],
   "metadata": {
    "collapsed": false,
    "ExecuteTime": {
     "end_time": "2023-10-29T16:15:20.375259500Z",
     "start_time": "2023-10-29T16:15:20.332451500Z"
    }
   },
   "id": "2f303df9eb8119b9"
  }
 ],
 "metadata": {
  "kernelspec": {
   "display_name": "Python 3",
   "language": "python",
   "name": "python3"
  },
  "language_info": {
   "codemirror_mode": {
    "name": "ipython",
    "version": 2
   },
   "file_extension": ".py",
   "mimetype": "text/x-python",
   "name": "python",
   "nbconvert_exporter": "python",
   "pygments_lexer": "ipython2",
   "version": "2.7.6"
  }
 },
 "nbformat": 4,
 "nbformat_minor": 5
}
