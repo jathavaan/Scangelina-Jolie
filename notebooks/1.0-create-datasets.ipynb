{
 "cells": [
  {
   "cell_type": "code",
   "execution_count": 8,
   "outputs": [
    {
     "name": "stdout",
     "output_type": "stream",
     "text": [
      "The autoreload extension is already loaded. To reload it, use:\n",
      "  %reload_ext autoreload\n"
     ]
    }
   ],
   "source": [
    "%load_ext autoreload\n",
    "%autoreload 2"
   ],
   "metadata": {
    "collapsed": false,
    "ExecuteTime": {
     "end_time": "2023-11-18T23:24:44.053405600Z",
     "start_time": "2023-11-18T23:24:43.894787700Z"
    }
   },
   "id": "fc125c312e41d0cf"
  },
  {
   "cell_type": "code",
   "execution_count": 9,
   "outputs": [],
   "source": [
    "import os\n",
    "\n",
    "import numpy as np\n",
    "import open3d as o3d\n",
    "import pandas as pd"
   ],
   "metadata": {
    "collapsed": false,
    "ExecuteTime": {
     "end_time": "2023-11-18T23:24:44.158265800Z",
     "start_time": "2023-11-18T23:24:44.037382900Z"
    }
   },
   "id": "ae5d7dc21253b49d"
  },
  {
   "cell_type": "code",
   "execution_count": 10,
   "outputs": [],
   "source": [
    "from src import Config\n",
    "from src.common.logger import Logger\n",
    "from src.feature import LasFileHandler, Voxelizer, VoxelFeatureExtractor\n",
    "from src.feature.voxelizer.voxel_dto import VoxelDto\n",
    "from src.feature.point_cloud_file import FileType, Filename, IFileHandler, DirectoryType"
   ],
   "metadata": {
    "collapsed": false,
    "ExecuteTime": {
     "end_time": "2023-11-18T23:24:44.282312Z",
     "start_time": "2023-11-18T23:24:44.160267500Z"
    }
   },
   "id": "4adf82e674bbd678"
  },
  {
   "cell_type": "code",
   "execution_count": 11,
   "outputs": [],
   "source": [
    "logger: Logger = Logger()\n",
    "point_cloud_file_handler: IFileHandler = LasFileHandler(logger=logger)"
   ],
   "metadata": {
    "collapsed": false,
    "ExecuteTime": {
     "end_time": "2023-11-18T23:24:44.391472800Z",
     "start_time": "2023-11-18T23:24:44.285307900Z"
    }
   },
   "id": "c2265f9e1188ed2e"
  },
  {
   "cell_type": "markdown",
   "source": [
    "## Creating dataset for entire file"
   ],
   "metadata": {
    "collapsed": false
   },
   "id": "c4d4b75abe858a45"
  },
  {
   "cell_type": "code",
   "execution_count": 12,
   "outputs": [],
   "source": [
    "def create_dataset(*file_names: Filename, has_label: bool) -> None:\n",
    "    datasets: list[pd.DataFrame] = []\n",
    "    if has_label:\n",
    "        directory_type: DirectoryType = DirectoryType.CROPPED\n",
    "    else:\n",
    "        directory_type: DirectoryType = DirectoryType.RAW\n",
    "\n",
    "    for file_name in file_names:\n",
    "        point_cloud_file_handler.open(\n",
    "            directory_type=directory_type,\n",
    "            filename=file_name,\n",
    "            file_type=FileType.LAS\n",
    "        )\n",
    "\n",
    "        point_cloud: o3d.geometry.PointCloud = point_cloud_file_handler.render_point_cloud_object()\n",
    "        voxelizer: Voxelizer = Voxelizer(point_cloud=point_cloud, logger=logger)\n",
    "        voxel_dtos: list[VoxelDto] = voxelizer.voxels\n",
    "        voxel_feature_extractors: list[tuple[VoxelDto, VoxelFeatureExtractor]] = []\n",
    "\n",
    "        for dto in voxel_dtos:\n",
    "            voxel: o3d.geometry.PointCloud = dto.point_cloud\n",
    "            voxel_feature_extractor: VoxelFeatureExtractor = VoxelFeatureExtractor(point_cloud=voxel, logger=logger)\n",
    "            voxel_feature_extractors.append((dto, voxel_feature_extractor))\n",
    "\n",
    "        feature_frame: pd.DataFrame = pd.DataFrame(columns=[\n",
    "            \"grid_x\",\n",
    "            \"grid_y\",\n",
    "            \"grid_z\",\n",
    "\n",
    "            \"r\",\n",
    "            \"g\",\n",
    "            \"b\",\n",
    "\n",
    "            \"max_bound_x\",\n",
    "            \"max_bound_y\",\n",
    "            \"max_bound_z\",\n",
    "\n",
    "            \"min_bound_x\",\n",
    "            \"min_bound_y\",\n",
    "            \"min_bound_z\",\n",
    "\n",
    "            \"l1\",\n",
    "            \"l2\",\n",
    "            \"l3\",\n",
    "            \"planarity\",\n",
    "            \"linearity\",\n",
    "            \"scattering\",\n",
    "            \"omnivariance\",\n",
    "            \"sum_of_eigenvalues\",\n",
    "            \"eigenentropy\",\n",
    "            \"anisotropy\",\n",
    "            \"change_of_curvature\",\n",
    "            \"z_range\",\n",
    "        ])\n",
    "        \n",
    "        for vfe in voxel_feature_extractors:\n",
    "            voxel_dto: VoxelDto = vfe[0]\n",
    "            voxel_feature_extractor: VoxelFeatureExtractor = vfe[1]\n",
    "            \n",
    "            # Values to store in the dataset\n",
    "            dataset_values = np.concatenate([\n",
    "                voxel_dto.grid_index,\n",
    "                voxel_dto.voxel_color,\n",
    "                voxel_dto.bounding_box.get_max_bound(),\n",
    "                voxel_dto.bounding_box.get_min_bound(),\n",
    "                voxel_feature_extractor.features.array\n",
    "            ])\n",
    "            \n",
    "            insertion_index: int = len(feature_frame)\n",
    "            feature_frame.loc[insertion_index] = dataset_values\n",
    "\n",
    "        if has_label:\n",
    "            feature_frame[\"label\"] = file_name.value\n",
    "\n",
    "        datasets.append(feature_frame)\n",
    "        \n",
    "    dataset: pd.DataFrame = pd.concat(datasets, axis=0)\n",
    "    dataset = dataset.sample(frac=1)\n",
    "\n",
    "    filepath: str = os.path.join(Config.DATASETS_DIR.value, \"raw_point_cloud_dataset.csv\")\n",
    "    if has_label:\n",
    "        filepath: str = os.path.join(Config.DATASETS_DIR.value, \"labled_dataset.csv\")\n",
    "\n",
    "    dataset.to_csv(path_or_buf=filepath, index=False)"
   ],
   "metadata": {
    "collapsed": false,
    "ExecuteTime": {
     "end_time": "2023-11-18T23:24:44.502184Z",
     "start_time": "2023-11-18T23:24:44.393478800Z"
    }
   },
   "id": "a19560dfb33e896"
  },
  {
   "cell_type": "markdown",
   "source": [
    "### Training data"
   ],
   "metadata": {
    "collapsed": false
   },
   "id": "65d8dd253fde28be"
  },
  {
   "cell_type": "code",
   "execution_count": 13,
   "outputs": [],
   "source": [
    "filenames: list[Filename] = [Filename.BUILDINGS, Filename.TERRAIN, Filename.RIVERS, Filename.TREES]\n",
    "# create_dataset(*filenames, has_label=True)"
   ],
   "metadata": {
    "collapsed": false,
    "ExecuteTime": {
     "end_time": "2023-11-18T23:24:44.613588700Z",
     "start_time": "2023-11-18T23:24:44.504183200Z"
    }
   },
   "id": "24568df8fa9f1cb7"
  },
  {
   "cell_type": "markdown",
   "source": [
    "### Test data"
   ],
   "metadata": {
    "collapsed": false
   },
   "id": "b3e0e3e150a3454e"
  },
  {
   "cell_type": "code",
   "execution_count": 14,
   "outputs": [
    {
     "name": "stderr",
     "output_type": "stream",
     "text": [
      "WARNING:laspy.vlrs.known:Failed to parse <class 'laspy.vlrs.known.GeoAsciiParamsVlr'>: 'ascii' codec can't decode byte 0xe5 in position 21: ordinal not in range(128)\n",
      "INFO:src.common.logger.logger:Loaded 23299316 points from raw_data.las\n",
      "INFO:src.common.logger.logger:Rendering point cloud object\n",
      "INFO:src.common.logger.logger:Rendered point cloud object\n",
      "INFO:src.common.logger.logger:Voxel grid created with 1302458 voxels.\n",
      "INFO:src.common.logger.logger:Voxelizer is extracting 1302458 voxels...\n"
     ]
    },
    {
     "data": {
      "text/plain": "Extracting voxels...:   0%|          | 0/1302458 [00:00<?, ?it/s]",
      "application/vnd.jupyter.widget-view+json": {
       "version_major": 2,
       "version_minor": 0,
       "model_id": "6359c82bf4db45b8bfd92813198f9281"
      }
     },
     "metadata": {},
     "output_type": "display_data"
    },
    {
     "ename": "KeyboardInterrupt",
     "evalue": "",
     "output_type": "error",
     "traceback": [
      "\u001B[1;31m---------------------------------------------------------------------------\u001B[0m",
      "\u001B[1;31mKeyboardInterrupt\u001B[0m                         Traceback (most recent call last)",
      "Cell \u001B[1;32mIn[14], line 1\u001B[0m\n\u001B[1;32m----> 1\u001B[0m \u001B[43mcreate_dataset\u001B[49m\u001B[43m(\u001B[49m\u001B[43mFilename\u001B[49m\u001B[38;5;241;43m.\u001B[39;49m\u001B[43mRAW_DATA\u001B[49m\u001B[43m,\u001B[49m\u001B[43m \u001B[49m\u001B[43mhas_label\u001B[49m\u001B[38;5;241;43m=\u001B[39;49m\u001B[38;5;28;43;01mFalse\u001B[39;49;00m\u001B[43m)\u001B[49m\n",
      "Cell \u001B[1;32mIn[12], line 16\u001B[0m, in \u001B[0;36mcreate_dataset\u001B[1;34m(has_label, *file_names)\u001B[0m\n\u001B[0;32m      9\u001B[0m point_cloud_file_handler\u001B[38;5;241m.\u001B[39mopen(\n\u001B[0;32m     10\u001B[0m     directory_type\u001B[38;5;241m=\u001B[39mdirectory_type,\n\u001B[0;32m     11\u001B[0m     filename\u001B[38;5;241m=\u001B[39mfile_name,\n\u001B[0;32m     12\u001B[0m     file_type\u001B[38;5;241m=\u001B[39mFileType\u001B[38;5;241m.\u001B[39mLAS\n\u001B[0;32m     13\u001B[0m )\n\u001B[0;32m     15\u001B[0m point_cloud: o3d\u001B[38;5;241m.\u001B[39mgeometry\u001B[38;5;241m.\u001B[39mPointCloud \u001B[38;5;241m=\u001B[39m point_cloud_file_handler\u001B[38;5;241m.\u001B[39mrender_point_cloud_object()\n\u001B[1;32m---> 16\u001B[0m voxelizer: Voxelizer \u001B[38;5;241m=\u001B[39m \u001B[43mVoxelizer\u001B[49m\u001B[43m(\u001B[49m\u001B[43mpoint_cloud\u001B[49m\u001B[38;5;241;43m=\u001B[39;49m\u001B[43mpoint_cloud\u001B[49m\u001B[43m,\u001B[49m\u001B[43m \u001B[49m\u001B[43mlogger\u001B[49m\u001B[38;5;241;43m=\u001B[39;49m\u001B[43mlogger\u001B[49m\u001B[43m)\u001B[49m\n\u001B[0;32m     17\u001B[0m voxel_dtos: \u001B[38;5;28mlist\u001B[39m[VoxelDto] \u001B[38;5;241m=\u001B[39m voxelizer\u001B[38;5;241m.\u001B[39mvoxels\n\u001B[0;32m     18\u001B[0m voxel_feature_extractors: \u001B[38;5;28mlist\u001B[39m[\u001B[38;5;28mtuple\u001B[39m[VoxelDto, VoxelFeatureExtractor]] \u001B[38;5;241m=\u001B[39m []\n",
      "File \u001B[1;32m~\\Code\\NTNU\\TBA4256-3D-Digital-Modelling\\ScangelinaJolieV2\\src\\feature\\voxelizer\\voxelizer.py:36\u001B[0m, in \u001B[0;36mVoxelizer.__init__\u001B[1;34m(self, point_cloud, logger, voxel_size)\u001B[0m\n\u001B[0;32m     34\u001B[0m \u001B[38;5;28mself\u001B[39m\u001B[38;5;241m.\u001B[39mgrid \u001B[38;5;241m=\u001B[39m grid\n\u001B[0;32m     35\u001B[0m \u001B[38;5;28mself\u001B[39m\u001B[38;5;241m.\u001B[39mlogger\u001B[38;5;241m.\u001B[39minfo(\u001B[38;5;124mf\u001B[39m\u001B[38;5;124m\"\u001B[39m\u001B[38;5;132;01m{\u001B[39;00m\u001B[38;5;28mself\u001B[39m\u001B[38;5;241m.\u001B[39m\u001B[38;5;18m__class__\u001B[39m\u001B[38;5;241m.\u001B[39m\u001B[38;5;18m__name__\u001B[39m\u001B[38;5;132;01m}\u001B[39;00m\u001B[38;5;124m is extracting \u001B[39m\u001B[38;5;132;01m{\u001B[39;00m\u001B[38;5;28mlen\u001B[39m(\u001B[38;5;28mself\u001B[39m\u001B[38;5;241m.\u001B[39mgrid\u001B[38;5;241m.\u001B[39mget_voxels())\u001B[38;5;132;01m}\u001B[39;00m\u001B[38;5;124m voxels...\u001B[39m\u001B[38;5;124m\"\u001B[39m)\n\u001B[1;32m---> 36\u001B[0m \u001B[38;5;28;43mself\u001B[39;49m\u001B[38;5;241;43m.\u001B[39;49m\u001B[43mextract_voxels\u001B[49m\u001B[43m(\u001B[49m\u001B[43m)\u001B[49m\n",
      "File \u001B[1;32m~\\Code\\NTNU\\TBA4256-3D-Digital-Modelling\\ScangelinaJolieV2\\src\\feature\\voxelizer\\voxelizer.py:115\u001B[0m, in \u001B[0;36mVoxelizer.extract_voxels\u001B[1;34m(self)\u001B[0m\n\u001B[0;32m    112\u001B[0m bounding_box: o3d\u001B[38;5;241m.\u001B[39mgeometry\u001B[38;5;241m.\u001B[39mAxisAlignedBoundingBox \u001B[38;5;241m=\u001B[39m bounding_boxes[i][\u001B[38;5;241m1\u001B[39m]\n\u001B[0;32m    113\u001B[0m voxel: o3d\u001B[38;5;241m.\u001B[39mgeometry\u001B[38;5;241m.\u001B[39mPointCloud \u001B[38;5;241m=\u001B[39m point_cloud\u001B[38;5;241m.\u001B[39mcrop(bounding_box)\n\u001B[1;32m--> 115\u001B[0m \u001B[38;5;28;01mif\u001B[39;00m \u001B[38;5;28;43mlen\u001B[39;49m(voxel\u001B[38;5;241m.\u001B[39mpoints) \u001B[38;5;241m<\u001B[39m VoxelizationParameters\u001B[38;5;241m.\u001B[39mMIN_VOXEL_POINT_COUNT\u001B[38;5;241m.\u001B[39mvalue:\n\u001B[0;32m    116\u001B[0m     insufficient_voxels_count \u001B[38;5;241m+\u001B[39m\u001B[38;5;241m=\u001B[39m \u001B[38;5;241m1\u001B[39m\n\u001B[0;32m    117\u001B[0m     \u001B[38;5;28mself\u001B[39m\u001B[38;5;241m.\u001B[39mlogger\u001B[38;5;241m.\u001B[39mdebug(\u001B[38;5;124mf\u001B[39m\u001B[38;5;124m\"\u001B[39m\u001B[38;5;124mVoxel \u001B[39m\u001B[38;5;132;01m{\u001B[39;00mgrid_index\u001B[38;5;132;01m}\u001B[39;00m\u001B[38;5;124m has insufficient points (\u001B[39m\u001B[38;5;132;01m{\u001B[39;00m\u001B[38;5;28mlen\u001B[39m(voxel\u001B[38;5;241m.\u001B[39mpoints)\u001B[38;5;132;01m}\u001B[39;00m\u001B[38;5;124m.\u001B[39m\u001B[38;5;124m\"\u001B[39m)\n",
      "\u001B[1;31mKeyboardInterrupt\u001B[0m: "
     ]
    }
   ],
   "source": [
    "create_dataset(Filename.RAW_DATA, has_label=False)"
   ],
   "metadata": {
    "collapsed": false,
    "ExecuteTime": {
     "end_time": "2023-11-18T23:32:26.138889300Z",
     "start_time": "2023-11-18T23:24:44.615590400Z"
    }
   },
   "id": "428d76b1be2fb58e"
  }
 ],
 "metadata": {
  "kernelspec": {
   "display_name": "Python 3",
   "language": "python",
   "name": "python3"
  },
  "language_info": {
   "codemirror_mode": {
    "name": "ipython",
    "version": 2
   },
   "file_extension": ".py",
   "mimetype": "text/x-python",
   "name": "python",
   "nbconvert_exporter": "python",
   "pygments_lexer": "ipython2",
   "version": "2.7.6"
  }
 },
 "nbformat": 4,
 "nbformat_minor": 5
}
