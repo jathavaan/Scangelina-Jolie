{
 "cells": [
  {
   "cell_type": "code",
   "execution_count": 1,
   "outputs": [],
   "source": [
    "%load_ext autoreload\n",
    "%autoreload 2"
   ],
   "metadata": {
    "collapsed": false,
    "ExecuteTime": {
     "end_time": "2023-11-17T20:24:55.752433600Z",
     "start_time": "2023-11-17T20:24:55.699307200Z"
    }
   },
   "id": "fc125c312e41d0cf"
  },
  {
   "cell_type": "code",
   "execution_count": 2,
   "outputs": [
    {
     "name": "stdout",
     "output_type": "stream",
     "text": [
      "Jupyter environment detected. Enabling Open3D WebVisualizer.\n",
      "[Open3D INFO] WebRTC GUI backend enabled.\n",
      "[Open3D INFO] WebRTCWindowSystem: HTTP handshake server disabled.\n"
     ]
    }
   ],
   "source": [
    "import os\n",
    "\n",
    "import numpy as np\n",
    "import open3d as o3d\n",
    "import pandas as pd"
   ],
   "metadata": {
    "collapsed": false,
    "ExecuteTime": {
     "end_time": "2023-11-17T20:24:57.227553400Z",
     "start_time": "2023-11-17T20:24:55.748603100Z"
    }
   },
   "id": "ae5d7dc21253b49d"
  },
  {
   "cell_type": "code",
   "execution_count": 3,
   "outputs": [
    {
     "name": "stderr",
     "output_type": "stream",
     "text": [
      "C:\\Users\\jatha\\anaconda3\\envs\\venv\\lib\\site-packages\\pyntcloud\\utils\\numba.py:5: NumbaDeprecationWarning: \u001B[1mThe 'nopython' keyword argument was not supplied to the 'numba.jit' decorator. The implicit default value for this argument is currently False, but it will be changed to True in Numba 0.59.0. See https://numba.readthedocs.io/en/stable/reference/deprecation.html#deprecation-of-object-mode-fall-back-behaviour-when-using-jit for details.\u001B[0m\n",
      "  def groupby_count(xyz, indices, out):\n",
      "C:\\Users\\jatha\\anaconda3\\envs\\venv\\lib\\site-packages\\pyntcloud\\utils\\numba.py:12: NumbaDeprecationWarning: \u001B[1mThe 'nopython' keyword argument was not supplied to the 'numba.jit' decorator. The implicit default value for this argument is currently False, but it will be changed to True in Numba 0.59.0. See https://numba.readthedocs.io/en/stable/reference/deprecation.html#deprecation-of-object-mode-fall-back-behaviour-when-using-jit for details.\u001B[0m\n",
      "  def groupby_sum(xyz, indices, N, out):\n",
      "C:\\Users\\jatha\\anaconda3\\envs\\venv\\lib\\site-packages\\pyntcloud\\utils\\numba.py:19: NumbaDeprecationWarning: \u001B[1mThe 'nopython' keyword argument was not supplied to the 'numba.jit' decorator. The implicit default value for this argument is currently False, but it will be changed to True in Numba 0.59.0. See https://numba.readthedocs.io/en/stable/reference/deprecation.html#deprecation-of-object-mode-fall-back-behaviour-when-using-jit for details.\u001B[0m\n",
      "  def groupby_max(xyz, indices, N, out):\n"
     ]
    }
   ],
   "source": [
    "from src import Config\n",
    "from src.common.logger import Logger\n",
    "from src.feature import LasFileHandler, Voxelizer, VoxelFeatureExtractor\n",
    "from src.feature.voxelizer.voxel_dto import VoxelDto\n",
    "from src.feature.point_cloud_file import FileType, Filename, IFileHandler, DirectoryType"
   ],
   "metadata": {
    "collapsed": false,
    "ExecuteTime": {
     "end_time": "2023-11-17T20:24:58.753761900Z",
     "start_time": "2023-11-17T20:24:57.231068700Z"
    }
   },
   "id": "4adf82e674bbd678"
  },
  {
   "cell_type": "code",
   "execution_count": 4,
   "outputs": [],
   "source": [
    "logger: Logger = Logger()\n",
    "point_cloud_file_handler: IFileHandler = LasFileHandler(logger=logger)"
   ],
   "metadata": {
    "collapsed": false,
    "ExecuteTime": {
     "end_time": "2023-11-17T20:24:58.877276900Z",
     "start_time": "2023-11-17T20:24:58.754740700Z"
    }
   },
   "id": "c2265f9e1188ed2e"
  },
  {
   "cell_type": "markdown",
   "source": [
    "## Creating dataset for entire file"
   ],
   "metadata": {
    "collapsed": false
   },
   "id": "c4d4b75abe858a45"
  },
  {
   "cell_type": "code",
   "execution_count": 5,
   "outputs": [],
   "source": [
    "def create_dataset(*file_names: Filename, has_label: bool) -> None:\n",
    "    datasets: list[pd.DataFrame] = []\n",
    "    if has_label:\n",
    "        directory_type: DirectoryType = DirectoryType.CROPPED\n",
    "    else:\n",
    "        directory_type: DirectoryType = DirectoryType.RAW\n",
    "\n",
    "    for file_name in file_names:\n",
    "        point_cloud_file_handler.open(\n",
    "            directory_type=directory_type,\n",
    "            filename=file_name,\n",
    "            file_type=FileType.LAS\n",
    "        )\n",
    "\n",
    "        point_cloud: o3d.geometry.PointCloud = point_cloud_file_handler.render_point_cloud_object()\n",
    "        voxelizer: Voxelizer = Voxelizer(point_cloud=point_cloud, logger=logger)\n",
    "        voxel_dtos: list[VoxelDto] = voxelizer.voxels\n",
    "        voxel_feature_extractors: list[tuple[VoxelDto, VoxelFeatureExtractor]] = []\n",
    "\n",
    "        for dto in voxel_dtos:\n",
    "            voxel: o3d.geometry.PointCloud = dto.point_cloud\n",
    "            voxel_feature_extractor: VoxelFeatureExtractor = VoxelFeatureExtractor(point_cloud=voxel, logger=logger)\n",
    "            voxel_feature_extractors.append((dto, voxel_feature_extractor))\n",
    "\n",
    "        feature_frame: pd.DataFrame = pd.DataFrame(columns=[\n",
    "            \"grid_x\",\n",
    "            \"grid_y\",\n",
    "            \"grid_z\",\n",
    "\n",
    "            \"r\",\n",
    "            \"g\",\n",
    "            \"b\",\n",
    "\n",
    "            \"max_bound_x\",\n",
    "            \"max_bound_y\",\n",
    "            \"max_bound_z\",\n",
    "\n",
    "            \"min_bound_x\",\n",
    "            \"min_bound_y\",\n",
    "            \"min_bound_z\",\n",
    "\n",
    "            \"l1\",\n",
    "            \"l2\",\n",
    "            \"l3\",\n",
    "            \"planarity\",\n",
    "            \"linearity\",\n",
    "            \"scattering\",\n",
    "            \"omnivariance\",\n",
    "            \"sum_of_eigenvalues\",\n",
    "            \"eigenentropy\",\n",
    "            \"anisotropy\",\n",
    "            \"change_of_curvature\",\n",
    "            \"z_range\",\n",
    "        ])\n",
    "        \n",
    "        for vfe in voxel_feature_extractors:\n",
    "            voxel_dto: VoxelDto = vfe[0]\n",
    "            voxel_feature_extractor: VoxelFeatureExtractor = vfe[1]\n",
    "            \n",
    "            # Values to store in the dataset\n",
    "            dataset_values = np.concatenate([\n",
    "                voxel_dto.grid_index,\n",
    "                voxel_dto.voxel_color,\n",
    "                voxel_dto.bounding_box.get_max_bound(),\n",
    "                voxel_dto.bounding_box.get_min_bound(),\n",
    "                voxel_feature_extractor.features.array\n",
    "            ])\n",
    "            \n",
    "            insertion_index: int = len(feature_frame)\n",
    "            feature_frame.loc[insertion_index] = dataset_values\n",
    "\n",
    "        if has_label:\n",
    "            feature_frame[\"label\"] = file_name.value\n",
    "\n",
    "        datasets.append(feature_frame)\n",
    "        \n",
    "    dataset: pd.DataFrame = pd.concat(datasets, axis=0)\n",
    "    dataset = dataset.sample(frac=1)\n",
    "\n",
    "    filepath: str = os.path.join(Config.DATASETS_DIR.value, \"raw_point_cloud.csv\")\n",
    "    if has_label:\n",
    "        filepath: str = os.path.join(Config.DATASETS_DIR.value, \"labled_dataset.csv\")\n",
    "\n",
    "    dataset.to_csv(path_or_buf=filepath, index=False)"
   ],
   "metadata": {
    "collapsed": false,
    "ExecuteTime": {
     "end_time": "2023-11-17T20:24:59.030086700Z",
     "start_time": "2023-11-17T20:24:58.887371Z"
    }
   },
   "id": "a19560dfb33e896"
  },
  {
   "cell_type": "markdown",
   "source": [
    "### Training data"
   ],
   "metadata": {
    "collapsed": false
   },
   "id": "65d8dd253fde28be"
  },
  {
   "cell_type": "code",
   "execution_count": 6,
   "outputs": [
    {
     "name": "stderr",
     "output_type": "stream",
     "text": [
      "INFO:src.common.logger.logger:Loaded 1516824 points from buildings.las\n",
      "INFO:src.common.logger.logger:Rendering point cloud object\n",
      "INFO:src.common.logger.logger:Rendered point cloud object\n",
      "INFO:src.common.logger.logger:Voxel grid created with 78005 voxels.\n",
      "INFO:src.common.logger.logger:Voxelizer is extracting 78005 voxels...\n"
     ]
    },
    {
     "data": {
      "text/plain": "Extracting voxels...:   0%|          | 0/78005 [00:00<?, ?it/s]",
      "application/vnd.jupyter.widget-view+json": {
       "version_major": 2,
       "version_minor": 0,
       "model_id": "f6e1c24f97254db987958d6d2fc92d7d"
      }
     },
     "metadata": {},
     "output_type": "display_data"
    },
    {
     "name": "stderr",
     "output_type": "stream",
     "text": [
      "INFO:src.common.logger.logger:Extracted 49611 voxels, 28394 voxels were insufficient.\n",
      "WARNING:laspy.vlrs.known:Failed to parse <class 'laspy.vlrs.known.GeoAsciiParamsVlr'>: 'ascii' codec can't decode byte 0xe5 in position 21: ordinal not in range(128)\n",
      "INFO:src.common.logger.logger:Loaded 2133081 points from terrain.las\n",
      "INFO:src.common.logger.logger:Rendering point cloud object\n",
      "INFO:src.common.logger.logger:Rendered point cloud object\n",
      "INFO:src.common.logger.logger:Voxel grid created with 67706 voxels.\n",
      "INFO:src.common.logger.logger:Voxelizer is extracting 67706 voxels...\n"
     ]
    },
    {
     "data": {
      "text/plain": "Extracting voxels...:   0%|          | 0/67706 [00:00<?, ?it/s]",
      "application/vnd.jupyter.widget-view+json": {
       "version_major": 2,
       "version_minor": 0,
       "model_id": "8e2714411a784db59471b174c5cf1e75"
      }
     },
     "metadata": {},
     "output_type": "display_data"
    },
    {
     "name": "stderr",
     "output_type": "stream",
     "text": [
      "INFO:src.common.logger.logger:Extracted 57436 voxels, 10270 voxels were insufficient.\n",
      "WARNING:laspy.vlrs.known:Failed to parse <class 'laspy.vlrs.known.GeoAsciiParamsVlr'>: 'ascii' codec can't decode byte 0xe5 in position 21: ordinal not in range(128)\n",
      "INFO:src.common.logger.logger:Loaded 213299 points from river.las\n",
      "INFO:src.common.logger.logger:Rendering point cloud object\n",
      "INFO:src.common.logger.logger:Rendered point cloud object\n",
      "INFO:src.common.logger.logger:Voxel grid created with 19082 voxels.\n",
      "INFO:src.common.logger.logger:Voxelizer is extracting 19082 voxels...\n"
     ]
    },
    {
     "data": {
      "text/plain": "Extracting voxels...:   0%|          | 0/19082 [00:00<?, ?it/s]",
      "application/vnd.jupyter.widget-view+json": {
       "version_major": 2,
       "version_minor": 0,
       "model_id": "7d8dfeb1de1047509bb32edebef74186"
      }
     },
     "metadata": {},
     "output_type": "display_data"
    },
    {
     "name": "stderr",
     "output_type": "stream",
     "text": [
      "INFO:src.common.logger.logger:Extracted 10197 voxels, 8885 voxels were insufficient.\n",
      "WARNING:laspy.vlrs.known:Failed to parse <class 'laspy.vlrs.known.GeoAsciiParamsVlr'>: 'ascii' codec can't decode byte 0xe5 in position 21: ordinal not in range(128)\n",
      "INFO:src.common.logger.logger:Loaded 718861 points from trees.las\n",
      "INFO:src.common.logger.logger:Rendering point cloud object\n",
      "INFO:src.common.logger.logger:Rendered point cloud object\n",
      "INFO:src.common.logger.logger:Voxel grid created with 55426 voxels.\n",
      "INFO:src.common.logger.logger:Voxelizer is extracting 55426 voxels...\n"
     ]
    },
    {
     "data": {
      "text/plain": "Extracting voxels...:   0%|          | 0/55426 [00:00<?, ?it/s]",
      "application/vnd.jupyter.widget-view+json": {
       "version_major": 2,
       "version_minor": 0,
       "model_id": "a31f2703268e45ce9d1f68dd4a73927a"
      }
     },
     "metadata": {},
     "output_type": "display_data"
    },
    {
     "name": "stderr",
     "output_type": "stream",
     "text": [
      "INFO:src.common.logger.logger:Extracted 30506 voxels, 24920 voxels were insufficient.\n"
     ]
    }
   ],
   "source": [
    "filenames: list[Filename] = [Filename.BUILDINGS, Filename.TERRAIN, Filename.RIVERS, Filename.TREES]\n",
    "create_dataset(*filenames, has_label=True)"
   ],
   "metadata": {
    "collapsed": false,
    "ExecuteTime": {
     "end_time": "2023-11-17T20:56:50.121590900Z",
     "start_time": "2023-11-17T20:24:59.032090Z"
    }
   },
   "id": "24568df8fa9f1cb7"
  },
  {
   "cell_type": "markdown",
   "source": [
    "### Test data"
   ],
   "metadata": {
    "collapsed": false
   },
   "id": "b3e0e3e150a3454e"
  },
  {
   "cell_type": "code",
   "execution_count": 7,
   "outputs": [
    {
     "name": "stderr",
     "output_type": "stream",
     "text": [
      "WARNING:laspy.vlrs.known:Failed to parse <class 'laspy.vlrs.known.GeoAsciiParamsVlr'>: 'ascii' codec can't decode byte 0xe5 in position 21: ordinal not in range(128)\n",
      "INFO:src.common.logger.logger:Loaded 8538911 points from cropped_raw_data.las\n",
      "INFO:src.common.logger.logger:Rendering point cloud object\n",
      "INFO:src.common.logger.logger:Rendered point cloud object\n",
      "INFO:src.common.logger.logger:Voxel grid created with 450802 voxels.\n",
      "INFO:src.common.logger.logger:Voxelizer is extracting 450802 voxels...\n"
     ]
    },
    {
     "data": {
      "text/plain": "Extracting voxels...:   0%|          | 0/450802 [00:00<?, ?it/s]",
      "application/vnd.jupyter.widget-view+json": {
       "version_major": 2,
       "version_minor": 0,
       "model_id": "a5d46c417cc94c2781a56dd2d2b52e94"
      }
     },
     "metadata": {},
     "output_type": "display_data"
    },
    {
     "name": "stderr",
     "output_type": "stream",
     "text": [
      "INFO:src.common.logger.logger:Extracted 294854 voxels, 155948 voxels were insufficient.\n"
     ]
    }
   ],
   "source": [
    "create_dataset(Filename.CROPPED_RAW_DATA, has_label=False)"
   ],
   "metadata": {
    "collapsed": false,
    "ExecuteTime": {
     "end_time": "2023-11-18T01:44:20.647119Z",
     "start_time": "2023-11-17T20:56:50.122589800Z"
    }
   },
   "id": "428d76b1be2fb58e"
  }
 ],
 "metadata": {
  "kernelspec": {
   "display_name": "Python 3",
   "language": "python",
   "name": "python3"
  },
  "language_info": {
   "codemirror_mode": {
    "name": "ipython",
    "version": 2
   },
   "file_extension": ".py",
   "mimetype": "text/x-python",
   "name": "python",
   "nbconvert_exporter": "python",
   "pygments_lexer": "ipython2",
   "version": "2.7.6"
  }
 },
 "nbformat": 4,
 "nbformat_minor": 5
}
