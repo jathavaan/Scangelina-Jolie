{
 "cells": [
  {
   "cell_type": "code",
   "execution_count": 6,
   "outputs": [
    {
     "name": "stdout",
     "output_type": "stream",
     "text": [
      "The autoreload extension is already loaded. To reload it, use:\n",
      "  %reload_ext autoreload\n"
     ]
    }
   ],
   "source": [
    "import os\n",
    "\n",
    "import numpy as np\n",
    "import pandas as pd\n",
    "\n",
    "from src import Config\n",
    "%load_ext autoreload\n",
    "%autoreload 2"
   ],
   "metadata": {
    "collapsed": false,
    "ExecuteTime": {
     "end_time": "2023-11-07T12:25:58.429745500Z",
     "start_time": "2023-11-07T12:25:58.335191Z"
    }
   },
   "id": "ae5d7dc21253b49d"
  },
  {
   "cell_type": "code",
   "execution_count": 2,
   "outputs": [
    {
     "name": "stdout",
     "output_type": "stream",
     "text": [
      "Jupyter environment detected. Enabling Open3D WebVisualizer.\n",
      "[Open3D INFO] WebRTC GUI backend enabled.\n",
      "[Open3D INFO] WebRTCWindowSystem: HTTP handshake server disabled.\n"
     ]
    }
   ],
   "source": [
    "import open3d as o3d\n",
    "\n",
    "from src.common.logger import Logger\n",
    "from src.feature import LasFileHandler, FeatureExtractor, Voxelizer\n",
    "from src.feature.point_cloud_file import FileType, Filename, IFileHandler, DirectoryType"
   ],
   "metadata": {
    "collapsed": false,
    "ExecuteTime": {
     "end_time": "2023-11-07T11:57:27.114496800Z",
     "start_time": "2023-11-07T11:57:25.412142600Z"
    }
   },
   "id": "4adf82e674bbd678"
  },
  {
   "cell_type": "code",
   "execution_count": 3,
   "outputs": [],
   "source": [
    "logger: Logger = Logger()\n",
    "point_cloud_file_handler: IFileHandler = LasFileHandler(logger=logger)"
   ],
   "metadata": {
    "collapsed": false,
    "ExecuteTime": {
     "end_time": "2023-11-07T11:57:27.209106800Z",
     "start_time": "2023-11-07T11:57:27.116498700Z"
    }
   },
   "id": "c2265f9e1188ed2e"
  },
  {
   "cell_type": "markdown",
   "source": [
    "## Extracting features and createing labeled dataset for each class"
   ],
   "metadata": {
    "collapsed": false
   },
   "id": "67ac2efd5b8313ac"
  },
  {
   "cell_type": "code",
   "execution_count": 4,
   "outputs": [
    {
     "name": "stderr",
     "output_type": "stream",
     "text": [
      "INFO:src.common.logger.logger:Loaded 1516824 points from buildings.las\n",
      "INFO:src.common.logger.logger:Rendering point cloud object\n",
      "INFO:src.common.logger.logger:Rendered point cloud object\n",
      "INFO:src.common.logger.logger:Voxel grid created with 78005 voxels.\n"
     ]
    },
    {
     "data": {
      "text/plain": "Extracting voxels...:   0%|          | 0/78005 [00:00<?, ?it/s]",
      "application/vnd.jupyter.widget-view+json": {
       "version_major": 2,
       "version_minor": 0,
       "model_id": "e9c648c3741a4f2f9b7ee96b69a2303f"
      }
     },
     "metadata": {},
     "output_type": "display_data"
    },
    {
     "name": "stderr",
     "output_type": "stream",
     "text": [
      "INFO:src.common.logger.logger:Extracted 49611 voxels, 28394 voxels were insufficient.\n",
      "WARNING:laspy.vlrs.known:Failed to parse <class 'laspy.vlrs.known.GeoAsciiParamsVlr'>: 'ascii' codec can't decode byte 0xe5 in position 21: ordinal not in range(128)\n",
      "INFO:src.common.logger.logger:Loaded 2133081 points from terrain.las\n",
      "INFO:src.common.logger.logger:Rendering point cloud object\n",
      "INFO:src.common.logger.logger:Rendered point cloud object\n",
      "INFO:src.common.logger.logger:Voxel grid created with 67706 voxels.\n"
     ]
    },
    {
     "data": {
      "text/plain": "Extracting voxels...:   0%|          | 0/67706 [00:00<?, ?it/s]",
      "application/vnd.jupyter.widget-view+json": {
       "version_major": 2,
       "version_minor": 0,
       "model_id": "52f4b79c97334dfb81620df30c1eec08"
      }
     },
     "metadata": {},
     "output_type": "display_data"
    },
    {
     "name": "stderr",
     "output_type": "stream",
     "text": [
      "INFO:src.common.logger.logger:Extracted 57436 voxels, 10270 voxels were insufficient.\n",
      "WARNING:laspy.vlrs.known:Failed to parse <class 'laspy.vlrs.known.GeoAsciiParamsVlr'>: 'ascii' codec can't decode byte 0xe5 in position 21: ordinal not in range(128)\n",
      "INFO:src.common.logger.logger:Loaded 213299 points from river.las\n",
      "INFO:src.common.logger.logger:Rendering point cloud object\n",
      "INFO:src.common.logger.logger:Rendered point cloud object\n",
      "INFO:src.common.logger.logger:Voxel grid created with 19082 voxels.\n"
     ]
    },
    {
     "data": {
      "text/plain": "Extracting voxels...:   0%|          | 0/19082 [00:00<?, ?it/s]",
      "application/vnd.jupyter.widget-view+json": {
       "version_major": 2,
       "version_minor": 0,
       "model_id": "09c9898271554574aa4c0dc7087e3953"
      }
     },
     "metadata": {},
     "output_type": "display_data"
    },
    {
     "name": "stderr",
     "output_type": "stream",
     "text": [
      "INFO:src.common.logger.logger:Extracted 10197 voxels, 8885 voxels were insufficient.\n",
      "WARNING:laspy.vlrs.known:Failed to parse <class 'laspy.vlrs.known.GeoAsciiParamsVlr'>: 'ascii' codec can't decode byte 0xe5 in position 21: ordinal not in range(128)\n",
      "INFO:src.common.logger.logger:Loaded 718861 points from trees.las\n",
      "INFO:src.common.logger.logger:Rendering point cloud object\n",
      "INFO:src.common.logger.logger:Rendered point cloud object\n",
      "INFO:src.common.logger.logger:Voxel grid created with 55426 voxels.\n"
     ]
    },
    {
     "data": {
      "text/plain": "Extracting voxels...:   0%|          | 0/55426 [00:00<?, ?it/s]",
      "application/vnd.jupyter.widget-view+json": {
       "version_major": 2,
       "version_minor": 0,
       "model_id": "678429fb7b504cb486136055beaa5c67"
      }
     },
     "metadata": {},
     "output_type": "display_data"
    },
    {
     "name": "stderr",
     "output_type": "stream",
     "text": [
      "INFO:src.common.logger.logger:Extracted 30506 voxels, 24920 voxels were insufficient.\n"
     ]
    }
   ],
   "source": [
    "filenames: list[Filename] = [Filename.BUILDINGS, Filename.TERRAIN, Filename.RIVERS, Filename.TREES]\n",
    "datasets: list[pd.DataFrame] = []\n",
    "\n",
    "for filename in filenames:\n",
    "    file_handler: IFileHandler = LasFileHandler(logger=logger)\n",
    "    file_handler.open(\n",
    "        directory_type=DirectoryType.CROPPED,\n",
    "        filename=filename,\n",
    "        file_type=FileType.LAS\n",
    "    )\n",
    "    point_cloud: o3d.geometry.PointCloud = file_handler.render_point_cloud_object()\n",
    "    voxelizer: Voxelizer = Voxelizer(point_cloud=point_cloud, logger=logger)\n",
    "    voxels: list[tuple[np.ndarray, o3d.geometry.PointCloud]] = voxelizer.extract_voxels()\n",
    "    extractors: list[tuple[np.ndarray, o3d.geometry.PointCloud, FeatureExtractor]] = []\n",
    "\n",
    "    for voxel_tuple in voxels:\n",
    "        grid_index: np.ndarray = voxel_tuple[0]\n",
    "        voxel: o3d.geometry.PointCloud = voxel_tuple[1]\n",
    "\n",
    "        extractor: FeatureExtractor = FeatureExtractor(point_cloud=voxel, logger=logger)\n",
    "        extractors.append((grid_index, voxel, extractor))\n",
    "\n",
    "    feature_frame: pd.DataFrame = pd.DataFrame(columns=[\n",
    "        \"l1\", \"l2\", \"l3\", \"planarity\", \"linearity\", \"scattering\",\n",
    "        \"omnivariance\", \"sum_of_eigenvalues\", \"anisotropy\", \"change_of_curvature\",\n",
    "        \"z_range\", \"label\"\n",
    "    ])\n",
    "\n",
    "    for ext in extractors:\n",
    "        grid_index: np.ndarray = ext[0]\n",
    "        voxel: o3d.geometry.PointCloud = ext[1]\n",
    "        feature_extractor: FeatureExtractor = ext[2]\n",
    "\n",
    "        features: np.ndarray = feature_extractor.features.array\n",
    "        feature_frame.loc[len(feature_frame)] = features\n",
    "\n",
    "    feature_frame[\"label\"] = filename.value\n",
    "    datasets.append(feature_frame)"
   ],
   "metadata": {
    "collapsed": false,
    "ExecuteTime": {
     "end_time": "2023-11-07T12:25:50.077813Z",
     "start_time": "2023-11-07T11:57:27.213114400Z"
    }
   },
   "id": "596af86feb86cfc5"
  },
  {
   "cell_type": "markdown",
   "source": [
    "## Merging the train data and shuffling it"
   ],
   "metadata": {
    "collapsed": false
   },
   "id": "bf8e747ade586ce7"
  },
  {
   "cell_type": "code",
   "execution_count": 10,
   "outputs": [],
   "source": [
    "labeled_data = pd.concat(datasets)\n",
    "labeled_data = labeled_data.sample(frac=1)\n",
    "labeled_data.reset_index(drop=True, inplace=True)\n",
    "filepath: str = os.path.join(Config.DATASETS_DIR.value, \"labled_dataset.csv\")\n",
    "labeled_data.to_csv(path_or_buf=filepath)"
   ],
   "metadata": {
    "collapsed": false,
    "ExecuteTime": {
     "end_time": "2023-11-07T12:27:34.193235500Z",
     "start_time": "2023-11-07T12:27:32.347409500Z"
    }
   },
   "id": "62c93a1ea8b837f1"
  },
  {
   "cell_type": "code",
   "execution_count": null,
   "outputs": [],
   "source": [],
   "metadata": {
    "collapsed": false
   },
   "id": "4d06910e076906f9"
  }
 ],
 "metadata": {
  "kernelspec": {
   "display_name": "Python 3",
   "language": "python",
   "name": "python3"
  },
  "language_info": {
   "codemirror_mode": {
    "name": "ipython",
    "version": 2
   },
   "file_extension": ".py",
   "mimetype": "text/x-python",
   "name": "python",
   "nbconvert_exporter": "python",
   "pygments_lexer": "ipython2",
   "version": "2.7.6"
  }
 },
 "nbformat": 4,
 "nbformat_minor": 5
}
