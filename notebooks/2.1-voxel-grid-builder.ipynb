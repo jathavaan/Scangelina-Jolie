{
 "cells": [
  {
   "cell_type": "code",
   "execution_count": 23,
   "outputs": [
    {
     "name": "stdout",
     "output_type": "stream",
     "text": [
      "The autoreload extension is already loaded. To reload it, use:\n",
      "  %reload_ext autoreload\n"
     ]
    }
   ],
   "source": [
    "%load_ext autoreload\n",
    "%autoreload 2"
   ],
   "metadata": {
    "collapsed": false,
    "ExecuteTime": {
     "end_time": "2023-11-22T10:59:08.323217400Z",
     "start_time": "2023-11-22T10:59:08.177355500Z"
    }
   },
   "id": "94ba692f233c8468"
  },
  {
   "cell_type": "code",
   "execution_count": 24,
   "id": "initial_id",
   "metadata": {
    "collapsed": true,
    "ExecuteTime": {
     "end_time": "2023-11-22T10:59:08.461220400Z",
     "start_time": "2023-11-22T10:59:08.323217400Z"
    }
   },
   "outputs": [],
   "source": [
    "import os\n",
    "\n",
    "import pandas as pd\n",
    "import numpy as np\n",
    "import open3d as o3d\n",
    "\n",
    "from src import Config\n",
    "from src.common.logger import ILogger, Logger\n",
    "from src.feature import Preprocess\n",
    "from src.feature.preprocess.data_dto import DataDto\n",
    "from src.model import AutoGluon\n",
    "from src.feature.display import Visualize"
   ]
  },
  {
   "cell_type": "markdown",
   "source": [
    "## Reading train and test data from csv"
   ],
   "metadata": {
    "collapsed": false
   },
   "id": "f824adcef45af3cd"
  },
  {
   "cell_type": "code",
   "execution_count": 25,
   "outputs": [],
   "source": [
    "train_data: pd.DataFrame = pd.read_csv(os.path.join(Config.DATASETS_DIR.value, 'labled_dataset.csv'))\n",
    "test_data: pd.DataFrame = pd.read_csv(os.path.join(Config.DATASETS_DIR.value, 'raw_point_cloud.csv'))"
   ],
   "metadata": {
    "collapsed": false,
    "ExecuteTime": {
     "end_time": "2023-11-22T10:59:09.705097800Z",
     "start_time": "2023-11-22T10:59:08.463234800Z"
    }
   },
   "id": "2e2a42cbff1506d9"
  },
  {
   "cell_type": "code",
   "execution_count": 26,
   "outputs": [],
   "source": [
    "raw_data: DataDto = DataDto(train_data, test_data)"
   ],
   "metadata": {
    "collapsed": false,
    "ExecuteTime": {
     "end_time": "2023-11-22T10:59:09.817707700Z",
     "start_time": "2023-11-22T10:59:09.707095200Z"
    }
   },
   "id": "47486c3a0ada35cd"
  },
  {
   "cell_type": "markdown",
   "source": [
    "## Preprocessing"
   ],
   "metadata": {
    "collapsed": false
   },
   "id": "85b8a18072b2291b"
  },
  {
   "cell_type": "code",
   "execution_count": 27,
   "outputs": [],
   "source": [
    "logger: ILogger = Logger()\n",
    "preprocess: Preprocess = Preprocess(dto=raw_data, logger=logger)"
   ],
   "metadata": {
    "collapsed": false,
    "ExecuteTime": {
     "end_time": "2023-11-22T10:59:10.068625300Z",
     "start_time": "2023-11-22T10:59:09.818703300Z"
    }
   },
   "id": "55dbd869da4372df"
  },
  {
   "cell_type": "markdown",
   "source": [
    "## AutoGluon predictor"
   ],
   "metadata": {
    "collapsed": false
   },
   "id": "2ffdb851dfa90cec"
  },
  {
   "cell_type": "code",
   "execution_count": 28,
   "outputs": [],
   "source": [
    "auto_gluon: AutoGluon = AutoGluon(\n",
    "    train_dto=preprocess.train_dto,\n",
    "    test_dto=preprocess.test_dto,\n",
    "    logger=logger,\n",
    "    train_max_minutes=300\n",
    ")"
   ],
   "metadata": {
    "collapsed": false,
    "ExecuteTime": {
     "end_time": "2023-11-22T10:59:10.213572100Z",
     "start_time": "2023-11-22T10:59:10.070625500Z"
    }
   },
   "id": "f8bdabcef4e900a0"
  },
  {
   "cell_type": "markdown",
   "source": [
    "### Training"
   ],
   "metadata": {
    "collapsed": false
   },
   "id": "2a2210278c374916"
  },
  {
   "cell_type": "code",
   "execution_count": 29,
   "outputs": [
    {
     "name": "stderr",
     "output_type": "stream",
     "text": [
      "INFO:src.common.logger.logger:A model has already been trained and saved at C:\\Users\\jatha\\Code\\NTNU\\TBA4256-3D-Digital-Modelling\\ScangelinaJolieV2\\models\\auto_gluon\\ag_model_300\n",
      "INFO:src.common.logger.logger:Loading model.\n",
      "INFO:src.common.logger.logger:Model loaded.\n"
     ]
    }
   ],
   "source": [
    "auto_gluon.fit()"
   ],
   "metadata": {
    "collapsed": false,
    "ExecuteTime": {
     "end_time": "2023-11-22T10:59:10.336933400Z",
     "start_time": "2023-11-22T10:59:10.213572100Z"
    }
   },
   "id": "621f808981414a53"
  },
  {
   "cell_type": "markdown",
   "source": [
    "### Predicting"
   ],
   "metadata": {
    "collapsed": false
   },
   "id": "8ba36b22b3a807e7"
  },
  {
   "cell_type": "code",
   "execution_count": 30,
   "outputs": [
    {
     "name": "stderr",
     "output_type": "stream",
     "text": [
      "INFO:src.common.logger.logger:Loading predictions from C:\\Users\\jatha\\Code\\NTNU\\TBA4256-3D-Digital-Modelling\\ScangelinaJolieV2\\data\\output\\predictions\\prediction_300.csv\n"
     ]
    }
   ],
   "source": [
    "auto_gluon.predict()"
   ],
   "metadata": {
    "collapsed": false,
    "ExecuteTime": {
     "end_time": "2023-11-22T10:59:10.516723700Z",
     "start_time": "2023-11-22T10:59:10.337933700Z"
    }
   },
   "id": "82f2887ff4bb687b"
  },
  {
   "cell_type": "markdown",
   "source": [
    "## Building voxel grid"
   ],
   "metadata": {
    "collapsed": false
   },
   "id": "aa2afc1f7db77145"
  },
  {
   "cell_type": "code",
   "execution_count": 31,
   "outputs": [],
   "source": [
    "triangle_mesh: o3d.geometry.TriangleMesh = o3d.geometry.TriangleMesh()\n",
    "test_data: pd.DataFrame = pd.merge(\n",
    "    auto_gluon.test_dto.bounding_box,\n",
    "    auto_gluon.test_dto.voxel_color,\n",
    "    left_index=True,\n",
    "    right_index=True\n",
    ")"
   ],
   "metadata": {
    "collapsed": false,
    "ExecuteTime": {
     "end_time": "2023-11-22T10:59:10.636326100Z",
     "start_time": "2023-11-22T10:59:10.512722800Z"
    }
   },
   "id": "d14c75ebdeae6ec1"
  },
  {
   "cell_type": "code",
   "execution_count": 32,
   "outputs": [],
   "source": [
    "def create_bounding_box(mesh: o3d.geometry.TriangleMesh, row: np.ndarray) -> None:\n",
    "    max_bound: np.ndarray = row[0:3]\n",
    "    min_bound: np.ndarray = row[3:6]\n",
    "    color: np.ndarray = row[6:9]\n",
    "\n",
    "    box: o3d.geometry.TriangleMesh = o3d.geometry.TriangleMesh.create_box(\n",
    "        width=max_bound[0] - min_bound[0],\n",
    "        height=max_bound[1] - min_bound[1],\n",
    "        depth=max_bound[2] - min_bound[2]\n",
    "    )\n",
    "\n",
    "    box.translate(min_bound)\n",
    "    box.paint_uniform_color(color)\n",
    "    mesh += box\n",
    "    \n",
    "    return row"
   ],
   "metadata": {
    "collapsed": false,
    "ExecuteTime": {
     "end_time": "2023-11-22T10:59:10.764155300Z",
     "start_time": "2023-11-22T10:59:10.639325200Z"
    }
   },
   "id": "f3e81578ef75884f"
  },
  {
   "cell_type": "code",
   "execution_count": 33,
   "outputs": [
    {
     "data": {
      "text/plain": "        max_bound_x  max_bound_y  max_bound_z  min_bound_x  min_bound_y  \\\n0          570090.7   7034137.29        31.98     570089.7   7034136.29   \n1          570062.7   7034225.29         3.98     570061.7   7034224.29   \n2          570121.7   7034378.29         9.98     570120.7   7034377.29   \n3          570035.7   7034202.29        11.98     570034.7   7034201.29   \n4          569991.7   7034339.29        12.98     569990.7   7034338.29   \n...             ...          ...          ...          ...          ...   \n294849     569804.7   7034358.29        27.98     569803.7   7034357.29   \n294850     569855.7   7034150.29        22.98     569854.7   7034149.29   \n294851     570071.7   7034188.29         6.98     570070.7   7034187.29   \n294852     570248.7   7034176.29        35.98     570247.7   7034175.29   \n294853     569806.7   7034263.29        32.98     569805.7   7034262.29   \n\n        min_bound_z         r         g         b  \n0             30.98  0.419422  0.481344  0.303245  \n1              2.98  0.787121  0.725597  0.639658  \n2              8.98  0.305425  0.248539  0.233890  \n3             10.98  0.545818  0.452540  0.384239  \n4             11.98  0.634189  0.596103  0.500984  \n...             ...       ...       ...       ...  \n294849        26.98  0.641769  0.650212  0.619969  \n294850        21.98  0.300972  0.313435  0.307110  \n294851         5.98  0.477578  0.464221  0.442043  \n294852        34.98  0.243754  0.219378  0.227503  \n294853        31.98  0.533750  0.559680  0.346517  \n\n[294854 rows x 9 columns]",
      "text/html": "<div>\n<style scoped>\n    .dataframe tbody tr th:only-of-type {\n        vertical-align: middle;\n    }\n\n    .dataframe tbody tr th {\n        vertical-align: top;\n    }\n\n    .dataframe thead th {\n        text-align: right;\n    }\n</style>\n<table border=\"1\" class=\"dataframe\">\n  <thead>\n    <tr style=\"text-align: right;\">\n      <th></th>\n      <th>max_bound_x</th>\n      <th>max_bound_y</th>\n      <th>max_bound_z</th>\n      <th>min_bound_x</th>\n      <th>min_bound_y</th>\n      <th>min_bound_z</th>\n      <th>r</th>\n      <th>g</th>\n      <th>b</th>\n    </tr>\n  </thead>\n  <tbody>\n    <tr>\n      <th>0</th>\n      <td>570090.7</td>\n      <td>7034137.29</td>\n      <td>31.98</td>\n      <td>570089.7</td>\n      <td>7034136.29</td>\n      <td>30.98</td>\n      <td>0.419422</td>\n      <td>0.481344</td>\n      <td>0.303245</td>\n    </tr>\n    <tr>\n      <th>1</th>\n      <td>570062.7</td>\n      <td>7034225.29</td>\n      <td>3.98</td>\n      <td>570061.7</td>\n      <td>7034224.29</td>\n      <td>2.98</td>\n      <td>0.787121</td>\n      <td>0.725597</td>\n      <td>0.639658</td>\n    </tr>\n    <tr>\n      <th>2</th>\n      <td>570121.7</td>\n      <td>7034378.29</td>\n      <td>9.98</td>\n      <td>570120.7</td>\n      <td>7034377.29</td>\n      <td>8.98</td>\n      <td>0.305425</td>\n      <td>0.248539</td>\n      <td>0.233890</td>\n    </tr>\n    <tr>\n      <th>3</th>\n      <td>570035.7</td>\n      <td>7034202.29</td>\n      <td>11.98</td>\n      <td>570034.7</td>\n      <td>7034201.29</td>\n      <td>10.98</td>\n      <td>0.545818</td>\n      <td>0.452540</td>\n      <td>0.384239</td>\n    </tr>\n    <tr>\n      <th>4</th>\n      <td>569991.7</td>\n      <td>7034339.29</td>\n      <td>12.98</td>\n      <td>569990.7</td>\n      <td>7034338.29</td>\n      <td>11.98</td>\n      <td>0.634189</td>\n      <td>0.596103</td>\n      <td>0.500984</td>\n    </tr>\n    <tr>\n      <th>...</th>\n      <td>...</td>\n      <td>...</td>\n      <td>...</td>\n      <td>...</td>\n      <td>...</td>\n      <td>...</td>\n      <td>...</td>\n      <td>...</td>\n      <td>...</td>\n    </tr>\n    <tr>\n      <th>294849</th>\n      <td>569804.7</td>\n      <td>7034358.29</td>\n      <td>27.98</td>\n      <td>569803.7</td>\n      <td>7034357.29</td>\n      <td>26.98</td>\n      <td>0.641769</td>\n      <td>0.650212</td>\n      <td>0.619969</td>\n    </tr>\n    <tr>\n      <th>294850</th>\n      <td>569855.7</td>\n      <td>7034150.29</td>\n      <td>22.98</td>\n      <td>569854.7</td>\n      <td>7034149.29</td>\n      <td>21.98</td>\n      <td>0.300972</td>\n      <td>0.313435</td>\n      <td>0.307110</td>\n    </tr>\n    <tr>\n      <th>294851</th>\n      <td>570071.7</td>\n      <td>7034188.29</td>\n      <td>6.98</td>\n      <td>570070.7</td>\n      <td>7034187.29</td>\n      <td>5.98</td>\n      <td>0.477578</td>\n      <td>0.464221</td>\n      <td>0.442043</td>\n    </tr>\n    <tr>\n      <th>294852</th>\n      <td>570248.7</td>\n      <td>7034176.29</td>\n      <td>35.98</td>\n      <td>570247.7</td>\n      <td>7034175.29</td>\n      <td>34.98</td>\n      <td>0.243754</td>\n      <td>0.219378</td>\n      <td>0.227503</td>\n    </tr>\n    <tr>\n      <th>294853</th>\n      <td>569806.7</td>\n      <td>7034263.29</td>\n      <td>32.98</td>\n      <td>569805.7</td>\n      <td>7034262.29</td>\n      <td>31.98</td>\n      <td>0.533750</td>\n      <td>0.559680</td>\n      <td>0.346517</td>\n    </tr>\n  </tbody>\n</table>\n<p>294854 rows × 9 columns</p>\n</div>"
     },
     "execution_count": 33,
     "metadata": {},
     "output_type": "execute_result"
    }
   ],
   "source": [
    "test_data.apply(lambda row: create_bounding_box(triangle_mesh, row), axis=1)"
   ],
   "metadata": {
    "collapsed": false,
    "ExecuteTime": {
     "end_time": "2023-11-22T10:59:57.340325200Z",
     "start_time": "2023-11-22T10:59:10.766156600Z"
    }
   },
   "id": "aa193701c134b03c"
  },
  {
   "cell_type": "code",
   "execution_count": 34,
   "outputs": [],
   "source": [
    "Visualize.mesh(triangle_mesh)"
   ],
   "metadata": {
    "collapsed": false,
    "ExecuteTime": {
     "end_time": "2023-11-22T10:59:57.341351Z",
     "start_time": "2023-11-22T10:59:48.279181300Z"
    }
   },
   "id": "7943b4bbcaaa2ea4"
  },
  {
   "cell_type": "code",
   "execution_count": 35,
   "outputs": [],
   "source": [
    "def save_grid(mesh: o3d.geometry.TriangleMesh, filename: str) -> None:\n",
    "        path: str = os.path.join(Config.VOXEL_GRID_DIR.value, f'{filename}.ply')\n",
    "        o3d.io.write_triangle_mesh(filename=path, mesh=mesh)"
   ],
   "metadata": {
    "collapsed": false,
    "ExecuteTime": {
     "end_time": "2023-11-22T10:59:57.341351Z",
     "start_time": "2023-11-22T10:59:50.867141700Z"
    }
   },
   "id": "522491fbcc7ed2e4"
  },
  {
   "cell_type": "code",
   "execution_count": 36,
   "outputs": [],
   "source": [
    "save_grid(triangle_mesh, 'unlabled_voxel_grid')"
   ],
   "metadata": {
    "collapsed": false,
    "ExecuteTime": {
     "end_time": "2023-11-22T10:59:57.342355800Z",
     "start_time": "2023-11-22T10:59:50.980415100Z"
    }
   },
   "id": "82ab1eb2763ced01"
  }
 ],
 "metadata": {
  "kernelspec": {
   "display_name": "Python 3",
   "language": "python",
   "name": "python3"
  },
  "language_info": {
   "codemirror_mode": {
    "name": "ipython",
    "version": 2
   },
   "file_extension": ".py",
   "mimetype": "text/x-python",
   "name": "python",
   "nbconvert_exporter": "python",
   "pygments_lexer": "ipython2",
   "version": "2.7.6"
  }
 },
 "nbformat": 4,
 "nbformat_minor": 5
}
